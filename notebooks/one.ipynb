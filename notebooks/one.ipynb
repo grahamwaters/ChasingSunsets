{
 "cells": [
  {
   "cell_type": "code",
   "execution_count": null,
   "metadata": {},
   "outputs": [],
   "source": [
    "import PIL as pil\n",
    "import numpy as np\n",
    "import matplotlib.pyplot as plt\n",
    "import pandas as pd\n",
    "import requests\n",
    "import io\n",
    "# import beautifulsoup4 as bs4\n",
    "import bs4\n",
    "import re"
   ]
  },
  {
   "attachments": {},
   "cell_type": "markdown",
   "metadata": {},
   "source": [
    "# Step One: Locate cams to pull from\n",
    "# Step Two: Pull from cams\n",
    "# Step Three: Save to disk\n",
    "# Step Four: Repeat"
   ]
  },
  {
   "cell_type": "code",
   "execution_count": null,
   "metadata": {},
   "outputs": [],
   "source": [
    "cams = pd.read_csv('data/earthcam.csv')\n",
    "cams.head()"
   ]
  }
 ],
 "metadata": {
  "language_info": {
   "name": "python"
  },
  "orig_nbformat": 4
 },
 "nbformat": 4,
 "nbformat_minor": 2
}
